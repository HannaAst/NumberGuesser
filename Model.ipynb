{
 "cells": [
  {
   "cell_type": "code",
   "execution_count": null,
   "id": "65759629-ba8d-44ca-9394-4a999773f5bd",
   "metadata": {},
   "outputs": [],
   "source": [
    "from tensorflow.keras.datasets import mnist\n",
    "from tensorflow.keras.utils import to_categorical\n",
    "from tensorflow.keras.preprocessing.image import ImageDataGenerator\n",
    "from tensorflow.keras.models import Sequential, load_model\n",
    "from tensorflow.keras.layers import Dense, Dropout, Conv2D, BatchNormalization, MaxPooling2D, Flatten\n",
    "from tensorflow.keras.callbacks import EarlyStopping, ModelCheckpoint\n",
    "import numpy as np"
   ]
  },
  {
   "cell_type": "markdown",
   "id": "955f94dd-f549-4b27-b9c1-3f80f7ba224c",
   "metadata": {},
   "source": [
    "### Data retrieving"
   ]
  },
  {
   "cell_type": "code",
   "execution_count": null,
   "id": "89f0d445-b0b1-47ea-b7ee-b01a61230df0",
   "metadata": {},
   "outputs": [],
   "source": [
    "(X_train, y_train), (X_test, y_test) = mnist.load_data()"
   ]
  },
  {
   "cell_type": "markdown",
   "id": "ad710fe0-b971-49a7-a225-206525fc4de9",
   "metadata": {},
   "source": [
    "### Data Preprocessing"
   ]
  },
  {
   "cell_type": "code",
   "execution_count": null,
   "id": "89598dea-6fa5-4177-9408-0393a6f4c89f",
   "metadata": {},
   "outputs": [],
   "source": [
    "y_train = to_categorical(y_train)\n",
    "y_test = to_categorical(y_test)\n",
    "\n",
    "X_train = np.expand_dims(X_train, axis = -1)\n",
    "X_test = np.expand_dims(X_test, axis = -1)"
   ]
  },
  {
   "cell_type": "code",
   "execution_count": null,
   "id": "aeb46980-04b6-40d7-89f7-1eb015d65145",
   "metadata": {},
   "outputs": [],
   "source": [
    "train_datagen = ImageDataGenerator(\n",
    "    rescale = 1./255,  # normalization of images\n",
    "    rotation_range = 10, # augmention of images to avoid overfitting\n",
    "    zoom_range = 0.1,\n",
    "    width_shift_range = 0.1, \n",
    "    height_shift_range = 0.1,\n",
    "    fill_mode = 'nearest'\n",
    ")\n",
    "\n",
    "val_datagen = ImageDataGenerator(rescale = 1./255)\n",
    "\n",
    "train_generator = train_datagen.flow(X_train, y_train, batch_size=64, shuffle=True, seed = 42)\n",
    "\n",
    "val_generator = val_datagen.flow(X_test, y_test, batch_size=64, shuffle=False, seed = 42)"
   ]
  },
  {
   "cell_type": "markdown",
   "id": "dc173e7d-3ea0-43e1-bbcb-f4785a663c59",
   "metadata": {},
   "source": [
    "### Model building"
   ]
  },
  {
   "cell_type": "code",
   "execution_count": null,
   "id": "7b934389-d032-4b3a-948a-173c24bbfc35",
   "metadata": {},
   "outputs": [],
   "source": [
    "model = Sequential([\n",
    "    Conv2D(32, (3, 3), activation='relu', padding='same', input_shape = (28, 28, 1)),\n",
    "    Conv2D(32, (3, 3), activation='relu', padding='same'),\n",
    "    BatchNormalization(),\n",
    "    MaxPooling2D(2, 2),\n",
    "    Dropout(0.25),\n",
    "\n",
    "    Conv2D(64, (3, 3), activation='relu', padding='same'),\n",
    "    Conv2D(64, (3, 3), activation='relu', padding='same' ),\n",
    "    BatchNormalization(),\n",
    "    MaxPooling2D(2, 2),\n",
    "    Dropout(0.25),\n",
    "\n",
    "    Conv2D(128, (3, 3), activation='relu', padding='same' ),\n",
    "    Conv2D(128, (3, 3), activation='relu', padding='same' ),\n",
    "    BatchNormalization(),\n",
    "    MaxPooling2D(2, 2),\n",
    "    Dropout(0.25),\n",
    "\n",
    "    Flatten(),\n",
    "\n",
    "    Dense(512, activation='relu'),\n",
    "    BatchNormalization(),\n",
    "    Dropout(0.5),\n",
    "\n",
    "    Dense(256, activation='relu'),\n",
    "    BatchNormalization(),\n",
    "    Dropout(0.4),\n",
    "\n",
    "    Dense(64, activation='relu'),\n",
    "    BatchNormalization(),\n",
    "    Dropout(0.3),\n",
    "\n",
    "    Dense(10, activation = 'softmax')\n",
    "])\n",
    "\n",
    "model.summary()"
   ]
  },
  {
   "cell_type": "markdown",
   "id": "5cf4709d-2808-4038-b018-8ddbdc76d6a2",
   "metadata": {},
   "source": [
    "### Model compiling"
   ]
  },
  {
   "cell_type": "code",
   "execution_count": null,
   "id": "029501ca-323f-4065-8576-1384c3e3608a",
   "metadata": {},
   "outputs": [],
   "source": [
    "model.compile(\n",
    "    optimizer = 'adam',\n",
    "    loss = 'categorical_crossentropy',\n",
    "    metrics = ['accuracy']\n",
    ")"
   ]
  },
  {
   "cell_type": "markdown",
   "id": "8ec60db1-92f1-4e86-9daa-842abc2c238b",
   "metadata": {},
   "source": [
    "### Callbacks"
   ]
  },
  {
   "cell_type": "code",
   "execution_count": null,
   "id": "4a86abfa-149d-4e0f-85a4-a3d5183b1150",
   "metadata": {},
   "outputs": [],
   "source": [
    "def callbacks(name): \n",
    "    return [ \n",
    "        EarlyStopping(monitor = 'val_loss', patience = 6), \n",
    "        ModelCheckpoint(f'models/{name}', save_best_only=True) # saving the best model\n",
    "    ]"
   ]
  },
  {
   "cell_type": "markdown",
   "id": "66115d6d-c81d-4b84-9ac9-0ea2c640f47f",
   "metadata": {},
   "source": [
    "### Model training"
   ]
  },
  {
   "cell_type": "code",
   "execution_count": null,
   "id": "0babeba4-d9f6-432e-9750-5cd96f21dea6",
   "metadata": {},
   "outputs": [],
   "source": [
    "BATCH_SIZE = 128\n",
    "EPOCHS = 50"
   ]
  },
  {
   "cell_type": "code",
   "execution_count": null,
   "id": "5dba553e-2d76-48d3-8464-f8bdeb2b6058",
   "metadata": {},
   "outputs": [],
   "source": [
    "history = model.fit(\n",
    "    train_generator,\n",
    "    validation_data = val_generator,\n",
    "    epochs=EPOCHS,\n",
    "    callbacks=callbacks('cnn_v1')\n",
    ")"
   ]
  },
  {
   "cell_type": "code",
   "execution_count": null,
   "id": "8e0eb6f1-6554-4f60-af2a-cb6a19491a44",
   "metadata": {},
   "outputs": [],
   "source": [
    "## best weights - /models/cnn_v1"
   ]
  }
 ],
 "metadata": {
  "kernelspec": {
   "display_name": "Python 3 (ipykernel)",
   "language": "python",
   "name": "python3"
  },
  "language_info": {
   "codemirror_mode": {
    "name": "ipython",
    "version": 3
   },
   "file_extension": ".py",
   "mimetype": "text/x-python",
   "name": "python",
   "nbconvert_exporter": "python",
   "pygments_lexer": "ipython3",
   "version": "3.9.18"
  }
 },
 "nbformat": 4,
 "nbformat_minor": 5
}
